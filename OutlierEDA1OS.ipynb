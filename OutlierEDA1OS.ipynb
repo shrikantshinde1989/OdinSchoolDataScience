{
 "cells": [
  {
   "cell_type": "markdown",
   "id": "5fd96072",
   "metadata": {},
   "source": [
    "## Outlier\n",
    "\n",
    "- An outlier is an observation of a data point that lies an abnormal distance from other values in a given population.\n",
    "- An outlier is an object(s) that deviates(विचलित होते) significantly from the rest of the object collection.\n",
    "- It is abnormal observation during the Data Analysis Stage, that data point lies far away from the other values."
   ]
  },
  {
   "cell_type": "markdown",
   "id": "88062e28",
   "metadata": {},
   "source": [
    "## Handling Outlier :-\n",
    "- Outliers can either be a mistake or just variance.\n",
    "- If we found this is due to mistake,then we can ignore them.\n",
    "- If we found this due to variance, in the data, we can work on this."
   ]
  },
  {
   "cell_type": "markdown",
   "id": "2abf1c85",
   "metadata": {},
   "source": [
    "## Possibilities for an Outlier\n",
    "- Incorrect data entry or error during data processing.\n",
    "- Missing values in a dataset.\n",
    "- Data did not come from the intended(हेतू) Sample.\n",
    "- Errors occur during the experiments(biological Data Sets).\n",
    "- Not an errored,it would be unusual from the original.\n",
    "- Extreme distribution than normal."
   ]
  },
  {
   "cell_type": "markdown",
   "id": "7f20b04c",
   "metadata": {},
   "source": [
    "### Solution for outlier\n",
    "- Go back to person those collect that data"
   ]
  },
  {
   "cell_type": "markdown",
   "id": "6ce15519",
   "metadata": {},
   "source": [
    "### Effects on EDA\n",
    "- Affects numerical measures(if it's extreme daat then it affects on mean values).\n",
    "- Affects correlation."
   ]
  },
  {
   "cell_type": "markdown",
   "id": "e9c951cf",
   "metadata": {},
   "source": [
    "### Drop outliers or not\n",
    "- Before dropping the outliers,we must analyze the dataset with and without outliers and understand the better impact of the results.\n",
    "- If you observed that it is obvious due to incoorectly entered,certainly you can drop the outlier.No issues on that case.\n",
    "- If you find that your assumptions are getting affected,you may drop the outlier straight away,provided that no changes in the results.\n",
    "- If the outlier affects your assumptions and results.No questions simply drop the outlier and proceed with your further steps."
   ]
  },
  {
   "cell_type": "markdown",
   "id": "996ed89c",
   "metadata": {},
   "source": [
    "### Finding outliers"
   ]
  },
  {
   "cell_type": "code",
   "execution_count": 1,
   "id": "df32d431",
   "metadata": {},
   "outputs": [],
   "source": [
    "# import libraries\n",
    "import os\n",
    "import numpy as np\n",
    "import pandas as pd\n",
    "import matplotlib.pyplot as plt\n",
    "import seaborn as sns\n",
    "from scipy import stats\n",
    "%matplotlib inline"
   ]
  },
  {
   "cell_type": "code",
   "execution_count": 2,
   "id": "64175b30",
   "metadata": {},
   "outputs": [],
   "source": [
    "df_diabetes = pd.read_csv('E:\\JupyterDemo\\diabetes.csv')"
   ]
  },
  {
   "cell_type": "code",
   "execution_count": 3,
   "id": "f3f1dd69",
   "metadata": {},
   "outputs": [
    {
     "data": {
      "text/html": [
       "<div>\n",
       "<style scoped>\n",
       "    .dataframe tbody tr th:only-of-type {\n",
       "        vertical-align: middle;\n",
       "    }\n",
       "\n",
       "    .dataframe tbody tr th {\n",
       "        vertical-align: top;\n",
       "    }\n",
       "\n",
       "    .dataframe thead th {\n",
       "        text-align: right;\n",
       "    }\n",
       "</style>\n",
       "<table border=\"1\" class=\"dataframe\">\n",
       "  <thead>\n",
       "    <tr style=\"text-align: right;\">\n",
       "      <th></th>\n",
       "      <th>Pregnancies</th>\n",
       "      <th>Glucose</th>\n",
       "      <th>BloodPressure</th>\n",
       "      <th>SkinThickness</th>\n",
       "      <th>Insulin</th>\n",
       "      <th>BMI</th>\n",
       "      <th>DiabetesPedigreeFunction</th>\n",
       "      <th>Age</th>\n",
       "      <th>Outcome</th>\n",
       "    </tr>\n",
       "  </thead>\n",
       "  <tbody>\n",
       "    <tr>\n",
       "      <th>0</th>\n",
       "      <td>6</td>\n",
       "      <td>148</td>\n",
       "      <td>72</td>\n",
       "      <td>35</td>\n",
       "      <td>0</td>\n",
       "      <td>33.6</td>\n",
       "      <td>0.627</td>\n",
       "      <td>50</td>\n",
       "      <td>1</td>\n",
       "    </tr>\n",
       "    <tr>\n",
       "      <th>1</th>\n",
       "      <td>1</td>\n",
       "      <td>85</td>\n",
       "      <td>66</td>\n",
       "      <td>29</td>\n",
       "      <td>0</td>\n",
       "      <td>26.6</td>\n",
       "      <td>0.351</td>\n",
       "      <td>31</td>\n",
       "      <td>0</td>\n",
       "    </tr>\n",
       "    <tr>\n",
       "      <th>2</th>\n",
       "      <td>8</td>\n",
       "      <td>183</td>\n",
       "      <td>64</td>\n",
       "      <td>0</td>\n",
       "      <td>0</td>\n",
       "      <td>23.3</td>\n",
       "      <td>0.672</td>\n",
       "      <td>32</td>\n",
       "      <td>1</td>\n",
       "    </tr>\n",
       "    <tr>\n",
       "      <th>3</th>\n",
       "      <td>1</td>\n",
       "      <td>89</td>\n",
       "      <td>66</td>\n",
       "      <td>23</td>\n",
       "      <td>94</td>\n",
       "      <td>28.1</td>\n",
       "      <td>0.167</td>\n",
       "      <td>21</td>\n",
       "      <td>0</td>\n",
       "    </tr>\n",
       "    <tr>\n",
       "      <th>4</th>\n",
       "      <td>0</td>\n",
       "      <td>137</td>\n",
       "      <td>40</td>\n",
       "      <td>35</td>\n",
       "      <td>168</td>\n",
       "      <td>43.1</td>\n",
       "      <td>2.288</td>\n",
       "      <td>33</td>\n",
       "      <td>1</td>\n",
       "    </tr>\n",
       "  </tbody>\n",
       "</table>\n",
       "</div>"
      ],
      "text/plain": [
       "   Pregnancies  Glucose  BloodPressure  SkinThickness  Insulin   BMI  \\\n",
       "0            6      148             72             35        0  33.6   \n",
       "1            1       85             66             29        0  26.6   \n",
       "2            8      183             64              0        0  23.3   \n",
       "3            1       89             66             23       94  28.1   \n",
       "4            0      137             40             35      168  43.1   \n",
       "\n",
       "   DiabetesPedigreeFunction  Age  Outcome  \n",
       "0                     0.627   50        1  \n",
       "1                     0.351   31        0  \n",
       "2                     0.672   32        1  \n",
       "3                     0.167   21        0  \n",
       "4                     2.288   33        1  "
      ]
     },
     "execution_count": 3,
     "metadata": {},
     "output_type": "execute_result"
    }
   ],
   "source": [
    "df_diabetes.head()"
   ]
  },
  {
   "cell_type": "code",
   "execution_count": 5,
   "id": "82bb31f3",
   "metadata": {},
   "outputs": [
    {
     "data": {
      "text/plain": [
       "<matplotlib.legend.Legend at 0x222df688760>"
      ]
     },
     "execution_count": 5,
     "metadata": {},
     "output_type": "execute_result"
    },
    {
     "data": {
      "image/png": "[encoded data removed]",
      "text/plain": [
       "<Figure size 640x480 with 1 Axes>"
      ]
     },
     "metadata": {},
     "output_type": "display_data"
    }
   ],
   "source": [
    "# Draw Histogram\n",
    "\n",
    "sns.histplot(data=df_diabetes['Age'],kde=True)\n",
    "plt.axvline(x=df_diabetes.Age.mean(),color = 'red',alpha = 0.5,label ='Mean')\n",
    "plt.axvline(x=df_diabetes.Age.median(),color='blue',ls='--',alpha =0.5,label = 'Mrdian')\n",
    "plt.legend()"
   ]
  },
  {
   "cell_type": "markdown",
   "id": "be02e61e",
   "metadata": {},
   "source": [
    "- #### For above histrogram suggest that our mean is higher than median and data in right skewed"
   ]
  },
  {
   "cell_type": "code",
   "execution_count": 7,
   "id": "6fb49be9",
   "metadata": {},
   "outputs": [
    {
     "data": {
      "text/plain": [
       "<Axes: ylabel='Age'>"
      ]
     },
     "execution_count": 7,
     "metadata": {},
     "output_type": "execute_result"
    },
    {
     "data": {
      "image/png": "[encoded data removed]",
      "text/plain": [
       "<Figure size 640x480 with 1 Axes>"
      ]
     },
     "metadata": {},
     "output_type": "display_data"
    }
   ],
   "source": [
    "#Box Plot\n",
    "\n",
    "sns.boxplot(y=df_diabetes['Age'])"
   ]
  },
  {
   "cell_type": "markdown",
   "id": "3b865522",
   "metadata": {},
   "source": [
    "### Approaches can be used\n",
    "- Outlier replacements using computed mean.\n",
    "- Outlier replacements using computed median.\n",
    "- Outlier replacements using group mean,if classification approch.\n",
    "- Outlier replacements using group median,if classification approch.\n",
    "- Outlier removal or filling of missing values(Z Score and/or IQR)"
   ]
  },
  {
   "cell_type": "markdown",
   "id": "fc75161f",
   "metadata": {},
   "source": [
    "#### Z Score\n",
    "- Basically calculating standard normal distribution.\n",
    "- Describe any data point by finding their relationship between mean and standard deviation of the group of data point.\n",
    "- It find the distribution of data where mean is 0 and standard deviation is 1.\n",
    "- If Z-score value is greater thaan or less than 3 or -3 respectively,that data point will be identified by as outlier."
   ]
  },
  {
   "cell_type": "code",
   "execution_count": 10,
   "id": "1da1f2d2",
   "metadata": {},
   "outputs": [
    {
     "name": "stdout",
     "output_type": "stream",
     "text": [
      "0      1.425995\n",
      "1      0.190672\n",
      "2      0.105584\n",
      "3      1.041549\n",
      "4      0.020496\n",
      "         ...   \n",
      "763    2.532136\n",
      "764    0.531023\n",
      "765    0.275760\n",
      "766    1.170732\n",
      "767    0.871374\n",
      "Name: Age, Length: 768, dtype: float64\n"
     ]
    }
   ],
   "source": [
    "z = np.abs(stats.zscore(df_diabetes['Age']))\n",
    "print(z)"
   ]
  },
  {
   "cell_type": "code",
   "execution_count": 15,
   "id": "facb7f04",
   "metadata": {},
   "outputs": [
    {
     "name": "stdout",
     "output_type": "stream",
     "text": [
      "(array([123, 453, 459, 666, 684], dtype=int64),)\n"
     ]
    }
   ],
   "source": [
    "threshold = 3\n",
    "print(np.where(z > 3))"
   ]
  },
  {
   "cell_type": "code",
   "execution_count": 17,
   "id": "aedb9db6",
   "metadata": {},
   "outputs": [
    {
     "name": "stdout",
     "output_type": "stream",
     "text": [
      "(array([], dtype=int64),)\n"
     ]
    }
   ],
   "source": [
    "threshold = -3\n",
    "print(np.where(z < -3))"
   ]
  },
  {
   "cell_type": "markdown",
   "id": "b0f9fcf8",
   "metadata": {},
   "source": [
    "### IQR(Inner Quartile Range)\n",
    "- Data has divided into quartiles(Q1,Q2 and Q3)\n",
    "    - 25th percentile of the data-Q1\n",
    "    - 50th percentile of the data-Q2\n",
    "    - 75th percentile of the data-Q3\n",
    "    - Lower limit for outlier Q1-1.5*IQR\n",
    "    - Upper limit for outlier Q3+1.5*IQR\n",
    "    - IQR = Q3-Q1"
   ]
  },
  {
   "cell_type": "code",
   "execution_count": 25,
   "id": "ded329b7",
   "metadata": {},
   "outputs": [
    {
     "name": "stdout",
     "output_type": "stream",
     "text": [
      "24.0\n",
      "29.0\n",
      "41.0\n"
     ]
    },
    {
     "name": "stderr",
     "output_type": "stream",
     "text": [
      "C:\\Users\\Sairam\\AppData\\Local\\Temp\\ipykernel_468\\1337219579.py:1: DeprecationWarning: the `interpolation=` argument to percentile was renamed to `method=`, which has additional options.\n",
      "Users of the modes 'nearest', 'lower', 'higher', or 'midpoint' are encouraged to review the method they used. (Deprecated NumPy 1.22)\n",
      "  Q1 = np.percentile(df_diabetes['Age'],25,interpolation= 'midpoint')\n",
      "C:\\Users\\Sairam\\AppData\\Local\\Temp\\ipykernel_468\\1337219579.py:2: DeprecationWarning: the `interpolation=` argument to percentile was renamed to `method=`, which has additional options.\n",
      "Users of the modes 'nearest', 'lower', 'higher', or 'midpoint' are encouraged to review the method they used. (Deprecated NumPy 1.22)\n",
      "  Q2 = np.percentile(df_diabetes['Age'],50,interpolation = 'midpoint')\n",
      "C:\\Users\\Sairam\\AppData\\Local\\Temp\\ipykernel_468\\1337219579.py:3: DeprecationWarning: the `interpolation=` argument to percentile was renamed to `method=`, which has additional options.\n",
      "Users of the modes 'nearest', 'lower', 'higher', or 'midpoint' are encouraged to review the method they used. (Deprecated NumPy 1.22)\n",
      "  Q3 = np.percentile(df_diabetes['Age'],75,interpolation = 'midpoint')\n"
     ]
    }
   ],
   "source": [
    "Q1 = np.percentile(df_diabetes['Age'],25,interpolation= 'midpoint')\n",
    "Q2 = np.percentile(df_diabetes['Age'],50,interpolation = 'midpoint')\n",
    "Q3 = np.percentile(df_diabetes['Age'],75,interpolation = 'midpoint')\n",
    "print(Q1)\n",
    "print(Q2)\n",
    "print(Q3)"
   ]
  },
  {
   "cell_type": "code",
   "execution_count": 29,
   "id": "c46d1601",
   "metadata": {},
   "outputs": [
    {
     "name": "stdout",
     "output_type": "stream",
     "text": [
      "Interquartile range 17.0\n",
      "Lower Limit is  -1.5\n",
      "Upper Limit is  66.5\n",
      "outlier in the dataset is [69, 67, 72, 81, 67, 67, 70, 68, 69]\n"
     ]
    }
   ],
   "source": [
    "IQR = Q3-Q1\n",
    "print('Interquartile range',IQR)\n",
    "\n",
    "low_limit = Q1-(1.5*IQR)\n",
    "upp_limit = Q3+(1.5*IQR)\n",
    "\n",
    "print('Lower Limit is ',low_limit)\n",
    "print('Upper Limit is ',upp_limit)\n",
    "\n",
    "outlier = []\n",
    "for x in df_diabetes['Age']:\n",
    "    if((x > upp_limit) or (x < low_limit)):\n",
    "        outlier.append(x)\n",
    "print('outlier in the dataset is',outlier)"
   ]
  }
 ],
 "metadata": {
  "kernelspec": {
   "display_name": "Python 3 (ipykernel)",
   "language": "python",
   "name": "python3"
  },
  "language_info": {
   "codemirror_mode": {
    "name": "ipython",
    "version": 3
   },
   "file_extension": ".py",
   "mimetype": "text/x-python",
   "name": "python",
   "nbconvert_exporter": "python",
   "pygments_lexer": "ipython3",
   "version": "3.10.9"
  }
 },
 "nbformat": 4,
 "nbformat_minor": 5
}
